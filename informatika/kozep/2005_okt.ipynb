{
 "cells": [
  {
   "cell_type": "markdown",
   "metadata": {},
   "source": [
    "# HTML"
   ]
  },
  {
   "cell_type": "markdown",
   "metadata": {},
   "source": [
    "## Halma \n",
    "Készítsen weblapot a halma társasjáték bemutatására a következő leírás szerint! \n",
    "- Hozzon létre egy állományt, amelynek neve legyen `halma.html`! \n",
    "- Az oldal szövegét a `halmaforras.txt` állományban találja. \n",
    "- A feladat megoldásához szükséges képek:  \n",
    "    - `babu.jpg`,  \n",
    "    - `halma.gif`, \n",
    "    - `halmaugr.gif`. \n",
    "1. Az oldal háttérszíne indianred (#CD5C5C kódú szín). \n",
    "2. A cím („Halma”) egyes szintű címsor legyen középre igazítva! A böngésző keretén meg\n",
    "jelenő cím szövege is ez legyen! \n",
    "3. Az oldal többi részének váza, a mintának megfelelően táblázattal készüljön! A táblázat \n",
    "80% széles, középre igazított, 1 pontos szegélyű és a háttérszíne darksalmon (#E9967A \n",
    "kódú szín) legyen! \n",
    "4. A táblázat első sorában a bal oldali cellába helyezze el a `babu.jpg` képet középre, 1 pont \n",
    "vastagon keretezve! A jobb oldali cellába illessze be a megfelelő szöveget a \n",
    "`halmaforras.txt` állományból (1–2. bekezdés)! \n",
    "5. Az alsó cellában a játék szabályai olvashatók. Kettes szintű címsor stílusú „A játék szabá\n",
    "lyai:” szöveg. A szabályokat felsorolással tagolja! \n",
    "6. Az „Ugrani is szabad” szavakat alakítsa linkké, amely a `halmaugr.gif` képre mutas\n",
    "son! \n",
    "7. A mintának megfelelően, a játékszabályok után a kép a kettő és a négy játékosú táblát \n",
    "ábrázolja! A `halma.gif` képállományt szúrja be úgy, hogy az középen jelenjen meg! "
   ]
  },
  {
   "cell_type": "markdown",
   "metadata": {},
   "source": [
    "# Adatbáziskezelás - SQL"
   ]
  },
  {
   "cell_type": "markdown",
   "metadata": {},
   "source": [
    "## Tanári kar \n",
    "A `tanar.txt` fájl egy iskolában valaha tanító tanárok névsorát, a tanárok szaktárgyait, a kezdés és kilépés évét tartalmazza. Az egyes adatelemeket tabulátor választja el. A feladatok \n",
    "megoldását a zárójelben megadott néven mentse!  \n",
    "1. Készítsen adatbázist `tanarok` néven! Töltse be az adatokat a `tanar.txt` fájlból és \n",
    "mentse a táblát adatok néven! A betöltéskor adjon egyedi azonosítót a táblához, és állítsa \n",
    "be, hogy ez kulcs legyen!  \n",
    "A forrásállomány a mezőneveket nem tartalmazza. A mezőnevek a következők legyenek: \n",
    "AZON \n",
    "egyedi azonosító (kulcs), \n",
    "NEV \n",
    "SZAK \n",
    "tanárok neve (szöveg), \n",
    "tanár szakjainak megnevezése (szöveg), \n",
    "METTOL belépés éve (szám), \n",
    "MEDDIG kilépés éve (szám)! \n",
    "2. Lekérdezésben gyűjtse ki azon tanárok nevét, akik 1986-ban vagy 1987-ben kezdtek az \n",
    "iskolában tanítani! (Kezd) \n",
    "3. Gyűjtse ki azon tanárok nevét és szaktárgyait, akik matematika tantárgyat tanítottak (a \n",
    "többszakos tanároknál minden szak fel van sorolva)! Anélkül, hogy megjelenítené, ren\n",
    "dezze a kiírást a belépés éve szerinti növekvő sorrendben! (Mat) \n",
    "4. Számítsa ki, hány évet tanított egy-egy tanár az iskolában! Adja meg a tanár nevét, szakját \n",
    "és az iskolában eltöltött időt! (Ido) \n",
    "5. Adja meg az iskolában leghosszabb ideig dolgozott tanár nevét és az iskolában eltöltött \n",
    "éveinek számát! (Leg) \n",
    "6. Készítsen űrlapot, amely segítségével új rekord vehető fel az adattáblába! Az űrlapon az \n",
    "azonosító kivételével minden adat szerepeljen! Az adatfeltöltés megkönnyítésére állítsa be \n",
    "a kilépés évét 2005-re! (Uj) "
   ]
  },
  {
   "cell_type": "markdown",
   "metadata": {},
   "source": [
    "# Emberek\n",
    " \n",
    "Hozzon létre egy „emberdb” nevű adatbázist! Az adatbázison belül hozzon létre egy \n",
    "„ember” nevű táblát az alábbiakban megadott adatok tárolásához szükséges típusú mezőkkel \n",
    "(attribútumokkal), és töltse is fel a megadott adatokkal! \n",
    " \n",
    "SzemIgSzam Nev SzuletesiIdo TestMagassag TestSuly\n",
    "(Kulcs)  \n",
    "AJ344523 Mander Endre 1945.11.11. 185 95  \n",
    "BA203031 Bálint Imre 1972.08.12. 177 70  \n",
    "AF173542 Tóth Miksa 1976.01.23. 180 78  \n",
    "ZE871261 Hegedűs Erna 1980.04.13. 167 58  \n",
    "FG425613 Murányi Ella 1977.12.20. 165 55  \n",
    "AI521721 Szenthy Kálmán 1938.09.27. 172 85  \n",
    " \n",
    "Készítsen lekérdezést, mely megadja a nyilvántartásban szereplő személyek átlagos magasságánál magasabb személyek nevét, születési idejét és testsúlyát, névsor szerint rendezve! "
   ]
  },
  {
   "cell_type": "markdown",
   "metadata": {},
   "source": [
    "# Kódolás"
   ]
  },
  {
   "cell_type": "markdown",
   "metadata": {},
   "source": [
    "## 1. feladat\n",
    "\n",
    "Kódolja az alábbiakban megadott algoritmust Pascal (vagy C, vagy JAVA, vagy BASIC) nyelven! \n",
    "A KI(X) eljárás az X szöveges kifejezés értékét írja a szabványos kimenetre (általában a \n",
    "képernyőre), az aktuális karakterpozícióba! \n",
    "A KI(új_sor) eljáráshívás egy „új sor” karaktert ír a kimenetre. \n",
    "A NEM(V) logikai függvény a paramétere tagadását adja eredményül. \n",
    "Amennyiben az ön által használt programozási nyelv nem tartalmaz logikai típust, használjon \n",
    "helyette egész típusú változót, ahol 0 reprezentálja a hamis, az 1 pedig az igaz értéket! \n",
    "A „:=” operátor az értékadást jelöli mely az operátor bal oldalán megadott helyen \n",
    "(változóban) tárolja a jobb oldalán megadott kifejezés értékét! \n",
    " \n",
    "Beadandó az algoritmust az adott forrásnyelven kódolva tartalmazó fájl. \n",
    " \n",
    "Változók: \n",
    " I:egész  \n",
    " J:egész  \n",
    " \n",
    "Program eleje  \n",
    " I := 10  \n",
    " Ciklus amíg I > 0  \n",
    "  Ciklus J := I-től 1-ig –1-esével   \n",
    "   KI(„[”)  \n",
    "KI(„I”)  \n",
    "KI(„]”)  \n",
    "  Ciklus vége  \n",
    "  Ha J páratlan szám   \n",
    "    Akkor KI(J)  \n",
    "      KI(”:”)  \n",
    "    Különben KI(I)  \n",
    "         KI(„;”)  \n",
    "  Elágazás vége  \n",
    "  I := I – J  \n",
    "  KI(új_sor)  \n",
    " Ciklus vége       \n",
    "Program vége"
   ]
  },
  {
   "cell_type": "markdown",
   "metadata": {},
   "source": [
    "## 2. feladat \n",
    " \n",
    "Egy autó üzemanyag-fogyasztását olyan módon adjuk meg, hogy 100 kilométer távolságú út \n",
    "megtételéhez hány liter benzinre van szüksége. Készítsen programot, amely billentyűzetről \n",
    "beolvassa egy autó fogyasztását, üzemanyagtartályának űrtartalmát, valamint a jármű által \n",
    "megteendő út hosszát, és a fenti adatok alapján megállapítja, hogy kell-e tankolnia az autónak \n",
    "az adott hosszúságú út során amennyiben tele tankkal indult útnak! A program \n",
    "megállapításának megfelelően írja képernyőre az alábbi mondatok közül a megfelelőt!  \n",
    "„Az út megtehető tankolás nélkül.”  \n",
    "„Az út során tankolni kell!”  \n",
    "Megjegyzés: Ha a fogyasztás F és az üzemanyagtartály térfogata V, akkor az autó egy tank \n",
    "benzinnel V*100/F kilométert tesz meg."
   ]
  },
  {
   "cell_type": "markdown",
   "metadata": {},
   "source": [
    "## 3. feladat \n",
    " \n",
    "Egy sebességmérő műszer regisztrálja minden mellette elhaladó jármű sebességét km/h-ban. \n",
    "Az egyik irányba haladó járművek sebességét pozitív a másik irányba (szembe) haladókét \n",
    "negatív értékként tárolja a műszer. Készítsen programot amely lehetővé teszi, hogy a műszer \n",
    "által regisztrált adatokat billentyűzeten keresztül számítógépre vigyük! A sebességadatokat \n",
    "(max. 100 db) a seb nevű tömbben tároljuk. Az adatok megadásának végét a 0 értékkel \n",
    "jelöljük.  A program az adatsor végére tárolja el ezt a „0” értéket is.  \n",
    "Az adatok eltárolása után a program határozza meg, hogy volt-e szabálysértő (szabálysértésen \n",
    "azt értjük, hogy valaki 100 km/h abszolút értékű sebességnél gyorsabban haladt), és ha igen, \n",
    "akkor az első szabálysértő hányadik rögzített elem volt a rögzített méréssorozatban és \n",
    "mennyivel lépte túl a sebességhatárt! \n",
    "A meghatározott eredményt írja ki a képernyőre! "
   ]
  },
  {
   "cell_type": "markdown",
   "metadata": {},
   "source": [
    "# Extra - pandas DataFrame\n",
    "\n",
    "Excel feladatból"
   ]
  },
  {
   "cell_type": "markdown",
   "metadata": {},
   "source": [
    "## Testtömeg-index \n",
    "A megoldás során vegye figyelembe a következőket! \n",
    "• Amennyiben lehetséges, a megoldás során képletet, függvényt, hivatkozást használjon! \n",
    "• A részfeladatok között van olyan, amely egy korábbi kérdés eredményét használja fel. Ha a \n",
    "korábbi részfeladatot nem sikerül teljesen megoldania, használja a megoldását úgy, ahogy \n",
    "van, vagy számot adó kifejezés helyett írjon be 15 és 35 közötti értékeket, illetve szöveg helyett \n",
    "pedig a „nem tudom” vagy a „normális” szavakat! Így ugyanis pontokat kaphat erre a rész\n",
    "feladatra is. \n",
    "\n",
    "Felmérést végeztek a középiskolások között, amelyben rögzítették a tanulók testmagasságát \n",
    "(cm) és testtömegét (kg). \n",
    "1. Az adatok.txt forrásfájl tartalmazza egy osztály tanulóinak névsorát, testtömeg és \n",
    "magasság adatait. Nyissa meg táblázatkezelő program segítségével az adatfájlt, majd \n",
    "mentse a táblázatkezelő saját formátumában tti néven! \n",
    "2. Rendezze az adatokat a tanulók neve szerint! \n",
    "3. A „Név” oszlop elé szúrjon be egy oszlopot, és abban sorszámozza a tanulókat! \n",
    "4. A „Magasság” és a „Testtömeg” oszlopokban minden érték mellett legyen ott a mérték\n",
    "egysége is (cm, illetve kg)! \n",
    "5. Számítsa ki az osztály átlagmagasságát centiméterben, és jelenítse meg két tizedesjegy \n",
    "pontossággal a C39-es cellában! A B39-es cella felirata legyen: „Átlagmagasság:”! \n",
    "6. Számítsa ki az osztály testössztömegét a D40-es cellában! A C40-es cella felirata legyen: \n",
    "„Össztömeg:”! \n",
    "7. A következő oszlopban számítsa ki minden tanuló testtömeg-index értékét (TTI), jelenítse \n",
    "meg két tizedesjegy pontossággal! \n",
    "TTI = testtömeg / magasság^2\n",
    " (A magasságot méterben kell megadni!) \n",
    "8. Az oszlop felirata legyen „TTI”! \n",
    "9. Adjon képletet, amely szövegesen is jellemzi a kapott értékeket minden diáknál! (30 és \n",
    "felette: elhízás; 25–30: túlsúly; 18–25: normális; 18 alatt: kóros soványság). Minden kate\n",
    "góriában az alsó határ benne van, de a felső nincs.) Az F – „Testalkat” – oszlopban jelen\n",
    "jenek meg a „kóros soványság”, „normális”, „túlsúly”, „elhízás” feliratok az előző oszlop \n",
    "értékeitől függően! \n",
    "10. Nevezze át a munkalapot „összes adat” névre! \n",
    "11. Formázza a táblázatot a minta alapján (igazítás, keretezés, betűstílus)! \n",
    "12. A képletekkel számolt cellák betűszínét állítsa kékre! \n",
    "13. Számolja ki az egyes testalkattípusokhoz tartozó tanulók számát a táblázat alatti szabad \n",
    "területen! \n",
    "14. Készítsen – külön munkalapra – szemléletes diagramot a testalkattípusok létszámarányai\n",
    "nak bemutatására! \n",
    "15. Szűréssel adja meg a túlsúlyos testalkattípushoz tartozó tanulókat! A szűréssel kapott ada\n",
    "tokat (Név, Magasság, Testtömeg, TTI) másolja külön munkalapra! Nevezze el a munka\n",
    "lapot túlsúlyos névre!"
   ]
  }
 ],
 "metadata": {
  "language_info": {
   "name": "python"
  }
 },
 "nbformat": 4,
 "nbformat_minor": 2
}
