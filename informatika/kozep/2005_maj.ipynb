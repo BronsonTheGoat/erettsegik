{
 "cells": [
  {
   "cell_type": "markdown",
   "metadata": {},
   "source": [
    "# HTML"
   ]
  },
  {
   "cell_type": "markdown",
   "metadata": {},
   "source": [
    "## Az ősember \n",
    "Készítsen weblapot az ősember leletek bemutatására a következő leírás szerint! \n",
    "- Hozzon létre két állományt, amelyek neve legyen `osember.html` és nean.html! \n",
    "- Az oldalak szövegét az `osforras.txt` állományban találja egymás után. \n",
    "- A feladat megoldásához szükséges képek: \n",
    "\n",
    "    - `ember.jpg`,  \n",
    "    - `neanderk.gif`,  \n",
    "    - `rajz.jpg`, \n",
    "    - `bal_nyil.gif`. \n",
    "1. Mind a két oldal háttérszíne moccasin (#FFE4B5 kódú szín) és a szöveg színe navy \n",
    "(#000080 kódú szín). \n",
    "2. A cím – az egyiken „Az ősember”, a másikon „A neandervölgyi ember” – egyes szintű \n",
    "címsor legyen, középre igazítva! A böngésző keretén megjelenő cím tartalma egyezzen \n",
    "meg az előzőekkel! \n",
    "3. Az `osember.html`-ben a cím után helyezze el az `ember.jpg` képet középre, 1 pont vas\n",
    "tagon keretezve! Az oldalra beillesztendő két bekezdést az `osforras.txt` állományból \n",
    "veheti át. \n",
    "4. Az első bekezdésben az „egy fosszilis csontvázat” szavakat alakítsa linkké, amely a másik \n",
    "állományra, a `nean.html`-re mutasson! \n",
    "5. A mintának megfelelően középre igazítva szúrja be a `rajz.jpg` képet, majd a második \n",
    "bekezdést balra igazítva helyezze el az oldalon! \n",
    "6. A `nean.html`-ben a címet egy 400 pont széles, középre igazított vonallal emelje ki! \n",
    "7. A vonal után egy 700 pont széles, keret nélküli, középre igazított táblázatot hozzon létre! \n",
    "8. A bal oldali cellába a `neanderk.gif` képet, a jobb oldaliba az `osforras.txt` utolsó \n",
    "bekezdését helyezze! \n",
    "9. Az oldal végére, balra helyezze el a `bal_nyil.gif` képet, és alakítsa linkké, amellyel az \n",
    "`osember.html` lapra mehet át!"
   ]
  },
  {
   "cell_type": "markdown",
   "metadata": {},
   "source": [
    "# Adatbáziskezelés - SQL"
   ]
  },
  {
   "cell_type": "markdown",
   "metadata": {},
   "source": [
    "## Tanulmányi versenyek \n",
    "A `tanverseny.txt` fájl a 2004/2005-ös tanév – Oktatási Minisztérium által meghirdetett \n",
    "vagy támogatott – tanulmányi versenyeit tartalmazza. Egy-egy verseny több rekordban van \n",
    "megjelenítve, mert minden – a versenyhez kötődő – eseményt külön tároltunk. Így egy adatsor \n",
    "tartalmazza a `verseny megnevezését`, típusát (pl. OKTV, 9–10.-es), az `esemény megnevezését` \n",
    "(pl. Nevezés, I. forduló) és `idejét`. Az egyes adatelemeket tabulátor választja el, az első sor \n",
    "tartalmazza a mezőneveket. \n",
    "A feladatok megoldását mentse a feladat végén zárójelben megadott néven! \n",
    "1. Készítsen adatbázist `versenynaptar` néven! Töltse be az adatokat a `tanverseny.txt` \n",
    "fájlból! Adjon hozzá AZON néven egyedi azonosítót, ami egyben kulcs is, és mentse a \n",
    "táblát `adatok` néven! \n",
    "2. Lekérdezéssel gyűjtse ki növekvő időrendi sorrendben a nevezési időket! Jelenítse meg a \n",
    "verseny nevezési idejét, megnevezését és típusát! (Nevez) \n",
    "3. Lekérdezésben adja meg, hogy típusonként hány esemény szerepel az adatbázisban (pl. \n",
    "hány „OKTV” van)! (Tip) \n",
    "4. Készítsen lekérdezést, mely megadja a 2005. februári versenyjellegű (nem nevezés) ese\n",
    "mények összes adatát, növekvő időrendi sorrendben! (Febr) \n",
    "5. Készítsen módosító lekérdezést az `adatok` táblához, melyben a 2004. 10. 1. dátumot 2005. 10. 7-re cseréli (a következő évi adatra frissíti)! (Ujev) \n",
    "6. Készítsen jelentést, amelyben típusonként, azon belül a verseny neve szerint csoportosítva jeleníti meg az eseményeket! A csoporton belül dátum szerinti növekedésben rendezze az \n",
    "adatokat! (Lista) "
   ]
  },
  {
   "cell_type": "markdown",
   "metadata": {},
   "source": [
    "## Autókereskedés \n",
    " \n",
    "Hozzon létre egy „autokerdb” nevű adatbázist! Az adatbázison belül hozzon létre egy  \n",
    "„autok” nevű táblát az alábbiakban megadott adatok tárolásához szükséges típusú mezőkkel  \n",
    "(attribútumokkal), és töltse is fel a megadott adatokkal!  \n",
    " \n",
    "Készítsen lekérdezést, mely megadja a minimális fogyasztásúnál legfeljebb 25%-kal többet \n",
    "futott járművek rendszámát, típusát és az általuk megtett utat!"
   ]
  },
  {
   "cell_type": "markdown",
   "metadata": {},
   "source": [
    "# Kódolás"
   ]
  },
  {
   "cell_type": "markdown",
   "metadata": {},
   "source": [
    "## 1.Feladat\n",
    "\n",
    "Kódolja az alábbiakban megadott algoritmust Pascal (C, JAVA, BASIC vagy egyéb által tanult) nyelven! \n",
    " \n",
    "A KI(X) eljárás az X szöveges kifejezés értékét írja a szabványos kimenetre (általában a \n",
    "képernyőre), az aktuális karakter-pozícióba.  \n",
    "A KI(új_sor) eljáráshívás egy „új sor” karaktert ír a kimenetre.  \n",
    "A NEM(V) logikai függvény a paramétere tagadását adja eredményül. Amennyiben a használt \n",
    "programozási nyelv nem tartalmaz logikai típust, használjon helyette egész típusú változót, \n",
    "ahol a 0 reprezentálja a hamis, az 1 pedig az igaz értéket! \n",
    "A „:=” operátor az értékadást jelöli, mely az operátor bal oldalán megadott helyen (a \n",
    "változóban) tárolja a jobb oldalán megadott kifejezés értékét. \n",
    " \n",
    " \n",
    "Beadandó az algoritmust az adott forrásnyelven kódolva tartalmazó fájl!  \n",
    " \n",
    "Változók: \n",
    "    V:logikai \n",
    "    I:egész \n",
    "    J:egész \n",
    " \n",
    "Program eleje  \n",
    "    V := igaz  \n",
    "    Ciklus i:=1-től 8-ig 1-esével  \n",
    "        Ha i páratlan szám  \n",
    "            akkor V:= igaz  \n",
    "            különben V:= hamis  \n",
    "        elágazás vége  \n",
    "        Ciklus j:=1-től 8–ig 1–esével  \n",
    "            Ha V  \n",
    "                akkor KI(„A”)  \n",
    "                különben KI(„B”)  \n",
    "            elágazás vége  \n",
    "            V := NEM(V)  \n",
    "        Ciklus vége  \n",
    "        KI(új_sor)  \n",
    "    Ciklus vége  \n",
    "Program vége \n"
   ]
  },
  {
   "cell_type": "markdown",
   "metadata": {},
   "source": [
    "## 2. feladat \n",
    " \n",
    "Egy K körlemezt a következő adatokkal adunk meg: K(xk ,yk ,r k ), ahol xk és yk a körlemez  \n",
    "középpontjának koordinátái, r k pedig a körlemez sugara. Egy tetszőleges P(x,y) pont – ahol x  \n",
    "és y a pont koordinátái – rajta van a K körlemezen, ha (xk-x)^2 +(yk-y)^2<=r k^2  .  \n",
    "Készítsen programot, amely billentyűzetről beolvassa két körlemez és egy pont adatait, majd  \n",
    "az adatok alapján kiírja a képernyőre az alábbiak közül a megfelelő állítást:  \n",
    "„A pont egyik körlemezen sincs rajta.”  \n",
    "„A pont csak az elsőként megadott körlemezen van rajta.”  \n",
    "„A pont csak a másodikként megadott körlemezen van rajta.”  \n",
    "„A pont a megadott körlemezek közös részén található.” "
   ]
  },
  {
   "cell_type": "markdown",
   "metadata": {},
   "source": [
    "## 3. feladat \n",
    " \n",
    "Egy héten keresztül minden nap délben megmértük a hőmérsékletet az udvaron. Készítsen  \n",
    "programot, ami a mért értékeket beolvassa és tárolja a hom tömbben!  \n",
    "A hom tömbben tárolt értékek alapján határozza meg, és írassa ki a képernyőre a heti  \n",
    "hőingadozás mértékét! (A hőingadozás a mért legnagyobb és legkisebb érték különbsége.)  "
   ]
  },
  {
   "cell_type": "markdown",
   "metadata": {},
   "source": [
    "# Extra - pandas DataFrame\n",
    "\n",
    "Excel feladatból"
   ]
  },
  {
   "cell_type": "markdown",
   "metadata": {},
   "source": [
    "## Gyümölcsök \n",
    "A megoldás során vegye figyelembe a következőket! \n",
    "- Amennyiben lehetséges, a megoldás során képletet, függvényt, hivatkozást használjon! \n",
    "- A részfeladatok között van olyan, amely egy korábbi kérdés eredményét használja fel. Ha a \n",
    "korábbi részfeladatot nem sikerült teljesen megoldania, használja a megoldását úgy, ahogy \n",
    "van, vagy számot adó kifejezés helyett írjon be „50 000”-et vagy „5%”-ot, illetve szöveg he\n",
    "lyett pedig a „nem tudom” szavakat, és azzal dolgozzon tovább! Így ugyanis pontokat kaphat \n",
    "erre a részfeladatra is. \n",
    "A gyumolcs.txt fájl tartalmazza a Magyarország 2003. évi fontosabb gyümölcsfajták ter\n",
    "mésmennyiségét megyénként. \n",
    "A táblázatkezelő program segítségével oldja meg a következő feladatokat! \n",
    "1. Töltse be a fájlt a táblázatkezelőjébe és mentse el statgyumolcs néven! \n",
    "2. A gyümölcsök termésmennyisége tonnában van megadva. Állítson be ezekre az értékekre \n",
    "ezres tagolású számformátumot, a számok után a „t” jelöléssel. \n",
    "3. Az első és második oszlop közé szúrjon be egy oszlopot. Az oszlop első sorába írja be az \n",
    "„Összes gyümölcstermés” szöveget! \n",
    "4. Számítsa ki – függvény segítségével – a létrehozott oszlopba, a megyében termelt gyü\n",
    "mölcsök mennyiségét! \n",
    "5. A megyék után, egy sort hagyjon üresen, s a következő sorban számítsa ki – függvény \n",
    "segítségével – azt, hogy az egyes gyümölcsökből mennyi termett az országban összesen! \n",
    "6. Rendezze a megyéket az összes gyümölcstermés mennyisége szerinti csökkenő sorrendbe! \n",
    "7. Szúrjon be egy oszlopot az „Alma” oszlop elé! Az oszlop első sorába írja be a „Százalé\n",
    "kos megoszlás” szöveget!            \n",
    "8. A beszúrt oszlopban – függvény segítségével kiszámítva – jelenítse meg, hogy az ország\n",
    "ban termett gyümölcsmennyiség hány százalékát termelik az egyes megyék! A kiszámított \n",
    "értékeket százalék formátumban két tizedes jeggyel adja meg! \n",
    "9. Formázza a táblázatot a mintának megfelelően (igazítás, keretezés, betűstílus)! \n",
    "10. Készítsen a D oszlop 25. sorától egy 3 soros és 7 oszlopos segédtáblázatot! A segédtábla \n",
    "első sora tartalmazza – hivatkozás segítségével – a gyümölcsök nevét! \n",
    "11. A segédtáblázat második sorába – függvény segítségével – állapítsa meg minden gyü\n",
    "mölcsből a legnagyobb termelt mennyiséget! \n",
    "12. A segédtáblázat harmadik sorába határozza meg – függvény segítségével –, hogy mely \n",
    "megyében termelték a legnagyobb mennyiséget az egyes gyümölcsfajtákból! A megyék \n",
    "neve kerüljön a mennyiségek alá! \n",
    "13.  Készítsen célszerű diagramot, amely a gyümölcstermelés százalékos megoszlását mutatja \n",
    "megyénként! A diagram címe legyen „A főbb gyümölcsök 2003. évi termésmennyisége \n",
    "megyék szerint”! A diagramhoz készítsen jelmagyarázatot!"
   ]
  }
 ],
 "metadata": {
  "language_info": {
   "name": "python"
  }
 },
 "nbformat": 4,
 "nbformat_minor": 2
}
